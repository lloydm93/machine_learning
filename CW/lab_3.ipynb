{
 "cells": [
  {
   "cell_type": "code",
   "execution_count": null,
   "metadata": {},
   "outputs": [],
   "source": [
    "# Import libraries\n",
    "import pandas as pd\n",
    "import matplotlib.pyplot as plt\n",
    "import seaborn as sns\n",
    "from scipy.stats import pointbiserialr\n",
    "\n",
    "# Set style\n",
    "sns.set(style=\"whitegrid\")\n"
   ]
  },
  {
   "cell_type": "markdown",
   "metadata": {},
   "source": []
  },
  {
   "cell_type": "code",
   "execution_count": null,
   "metadata": {},
   "outputs": [],
   "source": [
    "# path to local CSV file\n",
    "file_path = 'Mushrooms.data.csv' \n",
    "\n",
    "# Column names as per the dataset provided\n",
    "column_names = [\n",
    "    'class', 'cap-shape', 'cap-surface', 'cap-color', 'bruises', 'odor',\n",
    "    'gill-attachment', 'gill-spacing', 'gill-size', 'gill-color', 'stalk-shape',\n",
    "    'stalk-root', 'stalk-surface-above-ring', 'stalk-surface-below-ring', \n",
    "    'stalk-color-above-ring', 'stalk-color-below-ring', 'veil-type', 'veil-color', \n",
    "    'ring-number', 'ring-type', 'spore-print-color', 'population', 'habitat'\n",
    "]\n",
    "\n",
    "# Load the dataset (with proper column names if the file doesn't include them)\n",
    "df = pd.read_csv(file_path, sep=',', names=column_names, header=None)\n",
    "\n",
    "# Display basic information about the dataset\n",
    "df.info()\n",
    "\n",
    "# Display the first few rows of the dataset\n",
    "df.head()\n"
   ]
  },
  {
   "cell_type": "markdown",
   "metadata": {},
   "source": []
  },
  {
   "cell_type": "code",
   "execution_count": null,
   "metadata": {},
   "outputs": [],
   "source": [
    "# Clean the 'class' column if necessary (standardizing 'poisonous' -> 'p' and 'edible' -> 'e')\n",
    "df['class'] = df['class'].replace({'poisonous': 'p', 'edible': 'e'})\n",
    "\n",
    "# Check the unique values in the 'class' column\n",
    "print(df['class'].unique())"
   ]
  },
  {
   "cell_type": "markdown",
   "metadata": {},
   "source": []
  },
  {
   "cell_type": "code",
   "execution_count": null,
   "metadata": {},
   "outputs": [],
   "source": [
    "# 1. **Class Distribution (Edible vs Poisonous)**\n",
    "# Class distribution (edible vs poisonous)\n",
    "class_distribution = df['class'].value_counts()\n",
    "\n",
    "# Plotting the class distribution (Edible vs Poisonous)\n",
    "plt.figure(figsize=(6, 4))\n",
    "sns.countplot(x='class', data=df, hue='class', palette=\"Set2\", legend=False)\n",
    "plt.title('Class Distribution (Edible vs Poisonous)')\n",
    "plt.xlabel('Class')\n",
    "plt.ylabel('Count')\n",
    "plt.show()\n",
    "\n",
    "# Display the class distribution count\n",
    "print(class_distribution)"
   ]
  },
  {
   "cell_type": "markdown",
   "metadata": {},
   "source": []
  },
  {
   "cell_type": "code",
   "execution_count": null,
   "metadata": {},
   "outputs": [],
   "source": [
    "# 2. **Check for Missing Values**\n",
    "# Check if there are any missing values in the dataset\n",
    "missing_values = df.isnull().sum()\n",
    "\n",
    "# Display columns with missing values (if any)\n",
    "print(\"Missing values per column:\")\n",
    "print(missing_values[missing_values > 0])"
   ]
  },
  {
   "cell_type": "markdown",
   "metadata": {},
   "source": []
  },
  {
   "cell_type": "code",
   "execution_count": null,
   "metadata": {},
   "outputs": [],
   "source": [
    "# 3. **Feature Distributions**\n",
    "# Plot the distribution of the first few categorical features (to understand their distribution)\n",
    "plt.figure(figsize=(14, 10))\n",
    "for i, column in enumerate(df.columns[1:5]):  # Plotting the first 4 columns\n",
    "    plt.subplot(2, 2, i + 1)\n",
    "    sns.countplot(x=column, data=df, hue='class', palette=\"Set1\", legend=False)  # Updated line\n",
    "    plt.title(f'Distribution of {column}')\n",
    "    plt.xlabel(column)\n",
    "    plt.ylabel('Count')\n",
    "\n",
    "plt.tight_layout()\n",
    "plt.show()"
   ]
  },
  {
   "cell_type": "markdown",
   "metadata": {},
   "source": []
  },
  {
   "cell_type": "code",
   "execution_count": null,
   "metadata": {},
   "outputs": [],
   "source": [
    "# 4. **Calculate Point-Biserial Correlation between Features and Target (Class)**\n",
    "# Convert target ('class') to binary values (1 for poisonous, 0 for edible)\n",
    "df['class'] = df['class'].map({'p': 1, 'e': 0})\n",
    "\n",
    "# Calculate point-biserial correlation for each feature with the target variable\n",
    "correlations = []\n",
    "for column in df.columns[1:]:  # Skip the target column ('class')\n",
    "    # Encode each categorical feature using one-hot encoding\n",
    "    feature = pd.get_dummies(df[column], drop_first=True)  # One-hot encoding\n",
    "    for col in feature.columns:\n",
    "        # Calculate the point-biserial correlation between the target and feature\n",
    "        corr, _ = pointbiserialr(df['class'], feature[col])  # Point-biserial correlation\n",
    "        correlations.append((column, col, corr))\n",
    "\n",
    "# Convert the list of correlations to a DataFrame for easier viewing\n",
    "corr_df = pd.DataFrame(correlations, columns=['Feature', 'Encoded Feature', 'Correlation'])\n",
    "\n",
    "# Sort correlations by absolute value of correlation to get the most important ones\n",
    "corr_df = corr_df.sort_values(by='Correlation', ascending=False)\n",
    "\n",
    "# Display the top correlated features\n",
    "print(\"Top Correlations with Target (Poisonous Mushroom):\")\n",
    "print(corr_df.head())"
   ]
  },
  {
   "cell_type": "markdown",
   "metadata": {},
   "source": []
  },
  {
   "cell_type": "code",
   "execution_count": null,
   "metadata": {},
   "outputs": [],
   "source": [
    "# 5. # Plotting the top 10 correlations with the target variable (Poisonous Mushroom)\n",
    "top_corr_df = corr_df.head(10)  # Select top 10 most correlated features\n",
    "\n",
    "plt.figure(figsize=(14, 8))  # Increase plot size for better readability\n",
    "sns.barplot(x='Correlation', y='Encoded Feature', data=top_corr_df, hue='Encoded Feature', palette='Blues_d', dodge=False, errorbar=None, legend=False)\n",
    "plt.title('Top 10 Point-Biserial Correlations with Target (Poisonous Mushroom)')\n",
    "plt.xlabel('Correlation with Target')\n",
    "plt.ylabel('Encoded Features')\n",
    "plt.xticks(rotation=45)  # Rotate x-axis labels for better readability\n",
    "plt.tight_layout()\n",
    "plt.show()"
   ]
  },
  {
   "cell_type": "markdown",
   "metadata": {},
   "source": []
  },
  {
   "cell_type": "code",
   "execution_count": null,
   "metadata": {},
   "outputs": [],
   "source": [
    "# 6. # Generate a heatmap for feature correlations (using one-hot encoded variables)\n",
    "df_dummies = pd.get_dummies(df.drop('class', axis=1))\n",
    "\n",
    "# Calculate the correlation matrix\n",
    "corr_matrix = df_dummies.corr()\n",
    "\n",
    "# Filter the correlation matrix to only include strong correlations (above a threshold)\n",
    "threshold = 0.7\n",
    "strong_corr_matrix = corr_matrix[corr_matrix.abs() > threshold]\n",
    "\n",
    "# Set up the figure size for better readability\n",
    "plt.figure(figsize=(16, 12))\n",
    "\n",
    "# Generate the heatmap with annotations disabled and a clearer color scheme\n",
    "sns.heatmap(strong_corr_matrix, cmap=\"coolwarm\", annot=False, fmt=\".2f\", cbar_kws={'label': 'Correlation'}, linewidths=0.5)\n",
    "plt.title('Filtered Correlation Heatmap of Categorical Features', fontsize=16)\n",
    "plt.show()"
   ]
  },
  {
   "cell_type": "markdown",
   "metadata": {},
   "source": []
  }
 ],
 "metadata": {
  "kernelspec": {
   "display_name": "Python 3",
   "language": "python",
   "name": "python3"
  },
  "language_info": {
   "codemirror_mode": {
    "name": "ipython",
    "version": 3
   },
   "file_extension": ".py",
   "mimetype": "text/x-python",
   "name": "python",
   "nbconvert_exporter": "python",
   "pygments_lexer": "ipython3",
   "version": "3.11.3"
  }
 },
 "nbformat": 4,
 "nbformat_minor": 2
}
